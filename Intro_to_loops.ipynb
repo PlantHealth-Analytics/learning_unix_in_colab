{
  "nbformat": 4,
  "nbformat_minor": 0,
  "metadata": {
    "colab": {
      "provenance": []
    },
    "kernelspec": {
      "name": "python3",
      "display_name": "Python 3"
    },
    "language_info": {
      "name": "python"
    }
  },
  "cells": [
    {
      "cell_type": "markdown",
      "source": [
        "# Quick Introduction to `for` Loops in Bash (Google Colab)\n",
        "\n",
        "This notebook provides a quick introduction to using `for` loops in Bash, specifically for Google Colab.  \n",
        "Remember that in Colab, all Bash commands need to be prefixed with `!`.\n",
        "\n",
        "We will go through three examples:\n",
        "1. Looping through a list of strings\n",
        "2. Looping through files in a directory\n",
        "3. Looping through a numeric range"
      ],
      "metadata": {
        "id": "ys04aF20zENc"
      }
    },
    {
      "cell_type": "code",
      "source": [
        "# Looping through a list of strings in Colab\n",
        "!for pathogen in Fusarium Xanthomonas Pseduomonas; do echo \"I study $pathogen\"; done"
      ],
      "metadata": {
        "colab": {
          "base_uri": "https://localhost:8080/"
        },
        "id": "1n3YnGIazHGH",
        "outputId": "340bb483-b8ad-4dac-f84f-4bbedb66f4b4"
      },
      "execution_count": 14,
      "outputs": [
        {
          "output_type": "stream",
          "name": "stdout",
          "text": [
            "I study Fusarium\n",
            "I study Xanthomonas\n",
            "I study Pseduomonas\n"
          ]
        }
      ]
    },
    {
      "cell_type": "markdown",
      "source": [],
      "metadata": {
        "id": "G6G0QQV88gy7"
      }
    },
    {
      "cell_type": "markdown",
      "source": [
        "### Example 2: Looping Through Files in a Directory\n",
        "Assume we have some `.txt` files in the directory. We’ll loop through all `.txt` files and display each filename."
      ],
      "metadata": {
        "id": "AIXn4CdSzPUq"
      }
    },
    {
      "cell_type": "code",
      "source": [
        "# Create sample .txt files for demonstration\n",
        "!echo \"Sample content\" > file1.txt\n",
        "!echo \"Sample content\" > file2.txt\n",
        "!echo \"Sample content\" > file3.txt\n",
        "\n",
        "# Looping through .txt files in Colab\n",
        "!for file in *.txt; do echo \"Processing $file\"; done"
      ],
      "metadata": {
        "colab": {
          "base_uri": "https://localhost:8080/"
        },
        "id": "5m-fIsTHzK9v",
        "outputId": "87240411-264c-4cf4-ec8e-d3de0b161642"
      },
      "execution_count": 11,
      "outputs": [
        {
          "output_type": "stream",
          "name": "stdout",
          "text": [
            "Processing file1.txt\n",
            "Processing file2.txt\n",
            "Processing file3.txt\n"
          ]
        }
      ]
    },
    {
      "cell_type": "markdown",
      "source": [
        "### Example 3: Using a Numeric Range\n",
        "Looping through a range of numbers and printing each one."
      ],
      "metadata": {
        "id": "1Ti0VioRzUD0"
      }
    },
    {
      "cell_type": "code",
      "source": [
        "# Looping through a numeric range in Colab\n",
        "!for number in {1..5}; do echo \"Number: $number\"; done"
      ],
      "metadata": {
        "colab": {
          "base_uri": "https://localhost:8080/"
        },
        "id": "iXl--gaRzZ78",
        "outputId": "81c361c4-d565-4c36-eac4-d80176de9ea0"
      },
      "execution_count": 13,
      "outputs": [
        {
          "output_type": "stream",
          "name": "stdout",
          "text": [
            "Number: 1\n",
            "Number: 2\n",
            "Number: 3\n",
            "Number: 4\n",
            "Number: 5\n"
          ]
        }
      ]
    },
    {
      "cell_type": "markdown",
      "source": [
        "Understanding `$` in Bash Loops\n",
        "\n",
        "In Bash, the `$` symbol is used in two main ways:\n",
        "\n",
        "1. **Variable Expansion (`$variable`)**: Expands a variable to its value.\n",
        "   - Example: `$fruit` expands to the current value of `fruit` in the loop.\n",
        "\n",
        "2. **Command Substitution (`$(command)`)**: Executes a command and substitutes its output in place.\n",
        "   - Example: `$(grep -o \"A\" file | wc -l)` runs `grep` to find occurrences of \"A\" in `file` and `wc -l` to count them.\n"
      ],
      "metadata": {
        "id": "VlIljAhC7y2E"
      }
    },
    {
      "cell_type": "markdown",
      "source": [
        "Lets practice some loops with variable expansion and command substitution.\n",
        "\n",
        "Bioinformatics examples using for loops in Bash that you can run in Google Colab. These examples involve simple sequence analysis tasks, like processing multiple FASTA files and counting specific nucleotide or amino acid patterns."
      ],
      "metadata": {
        "id": "qDeKRu-JzvNe"
      }
    },
    {
      "cell_type": "markdown",
      "source": [
        "Example 1: Counting Nucleotide Frequencies in Multiple FASTA Files\n",
        "Imagine you have several .fasta files in a directory, and you want to count the occurrence of each nucleotide (A, T, C, G) in each file."
      ],
      "metadata": {
        "id": "TQXuCxJaz2K5"
      }
    },
    {
      "cell_type": "code",
      "source": [
        "# Create sample FASTA files for demonstration\n",
        "!echo -e \">seq1\\nATGCGTACGTAGCTAG\\n>seq2\\nCGTAGCTAGCTGAC\" > seq1.fasta\n",
        "!echo -e \">seq1\\nGCTAGCTAGCTAGCTA\\n>seq2\\nATCGATCGATCG\" > seq2.fasta\n",
        "!echo -e \">seq1\\nCGATCGTAGCTAGCTA\\n>seq2\\nGCGCGCGCGCGC\" > seq3.fasta\n",
        "##loop over the sequences to count the nucleotides\n",
        "!for file in *.fasta; do \\\n",
        "    echo \"Processing $file\"; \\\n",
        "    echo \"A: $(grep -o 'A' $file | wc -l)\"; \\\n",
        "    echo \"T: $(grep -o 'T' $file | wc -l)\"; \\\n",
        "    echo \"C: $(grep -o 'C' $file | wc -l)\"; \\\n",
        "    echo \"G: $(grep -o 'G' $file | wc -l)\"; \\\n",
        "    echo \"\"; \\\n",
        "done"
      ],
      "metadata": {
        "colab": {
          "base_uri": "https://localhost:8080/"
        },
        "id": "ttd372pCzywJ",
        "outputId": "ced6bb6c-ff47-476d-bb9f-6dce2c459bd3"
      },
      "execution_count": 10,
      "outputs": [
        {
          "output_type": "stream",
          "name": "stdout",
          "text": [
            "Processing seq1.fasta\n",
            "A: 1\n",
            "T: 1\n",
            "C: 1\n",
            "G: 1\n",
            "\n",
            "Processing seq2.fasta\n",
            "A: 1\n",
            "T: 1\n",
            "C: 1\n",
            "G: 1\n",
            "\n",
            "Processing seq3.fasta\n",
            "A: 1\n",
            "T: 1\n",
            "C: 1\n",
            "G: 1\n",
            "\n"
          ]
        }
      ]
    },
    {
      "cell_type": "markdown",
      "source": [
        "Example 2: Extracting and Analyzing Protein Sequences from Multiple FASTA Files\n",
        "In this example, we’ll assume you have protein sequences in multiple .fasta files, and we want to count how many times a specific amino acid (e.g., \"M\" for Methionine) appears in each sequence."
      ],
      "metadata": {
        "id": "p3TPaTpP0HCo"
      }
    },
    {
      "cell_type": "code",
      "source": [
        "# Create sample protein FASTA files for demonstration\n",
        "!echo -e \">protein1\\nMKTLLFLALFLFSSFAR\\n>protein2\\nMQKVMNRLPLR\" > protein1.fa\n",
        "!echo -e \">protein1\\nMRLLQMFLLK\\n>protein2\\nMMMTVSPIL\" > protein2.fa\n",
        "\n",
        "# Loop through each FASTA file and count occurrences of Methionine (M)\n",
        "!for file in *.fasta; do \\\n",
        "    echo \"Processing $file\"; \\\n",
        "    echo \"Methionine (M) Count: $(grep -o \"M\" $file | wc -l)\"; \\\n",
        "    echo \"\"; \\\n",
        "done"
      ],
      "metadata": {
        "colab": {
          "base_uri": "https://localhost:8080/"
        },
        "id": "zM-du27v0EHo",
        "outputId": "04a2a8fc-0c7f-4547-abd7-f4e680ec89c7"
      },
      "execution_count": 2,
      "outputs": [
        {
          "output_type": "stream",
          "name": "stdout",
          "text": [
            "Processing protein1.fasta\n",
            "Methionine (M) Count: 3\n",
            "\n",
            "Processing protein2.fasta\n",
            "Methionine (M) Count: 5\n",
            "\n",
            "Processing seq1.fasta\n",
            "Methionine (M) Count: 0\n",
            "\n",
            "Processing seq2.fasta\n",
            "Methionine (M) Count: 0\n",
            "\n",
            "Processing seq3.fasta\n",
            "Methionine (M) Count: 0\n",
            "\n"
          ]
        }
      ]
    },
    {
      "cell_type": "code",
      "source": [
        "# Example of a nested loop in Colab\n",
        "!for fruit in apple banana cherry; do \\\n",
        "    for color in red yellow green; do \\\n",
        "        echo \"$fruit is $color\"; \\\n",
        "    done; \\\n",
        "done"
      ],
      "metadata": {
        "colab": {
          "base_uri": "https://localhost:8080/"
        },
        "id": "oRRgRC8q9MmU",
        "outputId": "8638f99f-0868-493e-8567-45cf96cc7aeb"
      },
      "execution_count": 15,
      "outputs": [
        {
          "output_type": "stream",
          "name": "stdout",
          "text": [
            "apple is red\n",
            "apple is yellow\n",
            "apple is green\n",
            "banana is red\n",
            "banana is yellow\n",
            "banana is green\n",
            "cherry is red\n",
            "cherry is yellow\n",
            "cherry is green\n"
          ]
        }
      ]
    }
  ]
}